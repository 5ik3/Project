{
 "cells": [
  {
   "cell_type": "code",
   "execution_count": 1,
   "metadata": {},
   "outputs": [
    {
     "name": "stdout",
     "output_type": "stream",
     "text": [
      "Oryginalne dane: [2, 4, None, 8, 10]\n",
      "Dane po interpolacji: [2, 4, array(4.), 8, 10]\n"
     ]
    }
   ],
   "source": [
    "from scipy.interpolate import interp1d\n",
    "\n",
    "# Załóżmy, że 'x' to seria danych wejściowych, a 'y' to odpowiadające im wartości\n",
    "x = [1, 2, 3, 4, 5]\n",
    "y = [2, 4, None, 8, 10]\n",
    "\n",
    "# Usuń brakujące wartości\n",
    "x_cleaned = [x[i] for i in range(len(y)) if y[i] is not None]\n",
    "y_cleaned = [y[i] for i in range(len(y)) if y[i] is not None]\n",
    "\n",
    "# Stwórz funkcję interpolującą\n",
    "f = interp1d(x_cleaned, y_cleaned, kind='linear')\n",
    "\n",
    "# Interpoluj brakujące wartości\n",
    "y_interpolated = [f(i) if y[i] is None else y[i] for i in range(len(y))]\n",
    "\n",
    "print(f\"Oryginalne dane: {y}\")\n",
    "print(f\"Dane po interpolacji: {y_interpolated}\")\n"
   ]
  }
 ],
 "metadata": {
  "kernelspec": {
   "display_name": "Python 3",
   "language": "python",
   "name": "python3"
  },
  "language_info": {
   "codemirror_mode": {
    "name": "ipython",
    "version": 3
   },
   "file_extension": ".py",
   "mimetype": "text/x-python",
   "name": "python",
   "nbconvert_exporter": "python",
   "pygments_lexer": "ipython3",
   "version": "3.11.6"
  }
 },
 "nbformat": 4,
 "nbformat_minor": 2
}
